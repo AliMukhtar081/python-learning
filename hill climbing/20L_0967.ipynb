{
  "nbformat": 4,
  "nbformat_minor": 0,
  "metadata": {
    "colab": {
      "provenance": []
    },
    "kernelspec": {
      "name": "python3",
      "display_name": "Python 3"
    },
    "language_info": {
      "name": "python"
    }
  },
  "cells": [
    {
      "cell_type": "code",
      "source": [
        "def evaluate_attack(state):\n",
        "    n = len(state)\n",
        "    attacking_pairs = 0\n",
        "    for i in range(n):\n",
        "        for j in range(i + 1, n):\n",
        "            if state[i] == state[j] or abs(i - j) == abs(state[i] - state[j]):\n",
        "                    attacking_pairs += 1\n",
        "    return attacking_pairs\n",
        "\n",
        "def neighbors(state):\n",
        "    n = len(state)\n",
        "    neighboring_state = []\n",
        "    for i in range(n):\n",
        "        for j in range(n):\n",
        "            if state[i] != j:\n",
        "                 curr_neighbor = list(state)\n",
        "                 curr_neighbor[i] = j\n",
        "                 neighboring_state.append(curr_neighbor)\n",
        "    return neighboring_state\n",
        "\n",
        "def hill_climbing_main(initial_state, n):\n",
        "   \n",
        "    current_state = initial_state\n",
        "    current_value = evaluate_attack(current_state)\n",
        "    while True:\n",
        "        neighboring_states = neighbors(current_state)\n",
        "        if not neighboring_states:\n",
        "                break\n",
        "        next_state = min(neighboring_states, key=evaluate_attack)\n",
        "        next_value = evaluate_attack(next_state)\n",
        "        if next_value >= current_value:\n",
        "                break\n",
        "        current_state = next_state\n",
        "        current_value = next_value\n",
        "    return current_state\n",
        "\n",
        "n = int(input(\"Enter the number of Queens: \"))\n",
        "initial_state = []\n",
        "print(\"Enter the initial state:\")\n",
        "for i in range(n):\n",
        "    row = int(input())\n",
        "    initial_state.append(row)\n",
        "solution = hill_climbing_main(initial_state, n)\n",
        "print(solution)\n",
        "\n"
      ],
      "metadata": {
        "colab": {
          "base_uri": "https://localhost:8080/"
        },
        "id": "fpCpbfVum92d",
        "outputId": "06defe43-2a71-41c7-a874-88291a380d19"
      },
      "execution_count": 17,
      "outputs": [
        {
          "output_type": "stream",
          "name": "stdout",
          "text": [
            "Enter the number of Queens: 3\n",
            "Enter the initial state:\n",
            "1\n",
            "1\n",
            "1\n",
            "[0, 2, 1]\n"
          ]
        }
      ]
    }
  ]
}