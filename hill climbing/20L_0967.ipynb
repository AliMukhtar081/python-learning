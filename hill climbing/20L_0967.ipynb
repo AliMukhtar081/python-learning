{
  "cells": [
    {
      "cell_type": "code",
      "execution_count": 2,
      "metadata": {
        "colab": {
          "base_uri": "https://localhost:8080/"
        },
        "id": "fpCpbfVum92d",
        "outputId": "06defe43-2a71-41c7-a874-88291a380d19"
      },
      "outputs": [
        {
          "name": "stdout",
          "output_type": "stream",
          "text": [
            "Enter the initial state:\n",
            "[1, 3, 0, 2]\n"
          ]
        }
      ],
      "source": [
        "#calculates the attacking pairs in the current state\n",
        "#checks for each queen if they are on the same row coloum or diagnoal as other so that they are attacking each other\n",
        "def evaluate_attack(state):\n",
        "    n = len(state)\n",
        "    attacking_pairs = 0\n",
        "    for i in range(n):\n",
        "        for j in range(i + 1, n):\n",
        "            if state[i] == state[j] or abs(i - j) == abs(state[i] - state[j]):\n",
        "                    attacking_pairs += 1\n",
        "    return attacking_pairs\n",
        "\n",
        "#generates the neighboring states\n",
        "def neighbors(state):\n",
        "    n = len(state)\n",
        "    neighboring_state = []\n",
        "    for i in range(n):\n",
        "        for j in range(n):\n",
        "            if state[i] != j:\n",
        "                 curr_neighbor = list(state)\n",
        "                 curr_neighbor[i] = j\n",
        "                 neighboring_state.append(curr_neighbor)\n",
        "    return neighboring_state\n",
        "\n",
        "#hill climbing algorithm\n",
        "def hill_climbing_main(initial_state, n):\n",
        "   \n",
        "    current_state = initial_state\n",
        "    current_value = evaluate_attack(current_state)\n",
        "    while True:\n",
        "        neighboring_states = neighbors(current_state)\n",
        "        if not neighboring_states:\n",
        "                break\n",
        "        next_state = min(neighboring_states, key=evaluate_attack)\n",
        "        next_value = evaluate_attack(next_state)\n",
        "        if next_value >= current_value:\n",
        "                break\n",
        "        current_state = next_state\n",
        "        current_value = next_value\n",
        "    return current_state\n",
        "\n",
        "n = int(input(\"Enter the number of Queens: \"))\n",
        "initial_state = []\n",
        "print(\"Enter the initial state:\")\n",
        "for i in range(n):\n",
        "    row = int(input())\n",
        "    initial_state.append(row)\n",
        "solution = hill_climbing_main(initial_state, n)\n",
        "print(solution)\n",
        "\n"
      ]
    }
  ],
  "metadata": {
    "colab": {
      "provenance": []
    },
    "kernelspec": {
      "display_name": "Python 3",
      "name": "python3"
    },
    "language_info": {
      "codemirror_mode": {
        "name": "ipython",
        "version": 3
      },
      "file_extension": ".py",
      "mimetype": "text/x-python",
      "name": "python",
      "nbconvert_exporter": "python",
      "pygments_lexer": "ipython3",
      "version": "3.10.6"
    }
  },
  "nbformat": 4,
  "nbformat_minor": 0
}
