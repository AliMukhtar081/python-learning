{
 "cells": [
  {
   "cell_type": "code",
   "execution_count": 5,
   "metadata": {},
   "outputs": [
    {
     "name": "stdout",
     "output_type": "stream",
     "text": [
      "[4, 16, 36, 64, 100]\n"
     ]
    }
   ],
   "source": [
    "my_list = [2, 4, 6, 8, 10]\n",
    "squared_list = list(map(lambda x: x ** 2, my_list))\n",
    "print(squared_list)\n",
    "\n"
   ]
  },
  {
   "attachments": {},
   "cell_type": "markdown",
   "metadata": {},
   "source": [
    "Given a list of strings, use a lambda function to create a new list that contains only the strings with more than 5 characters."
   ]
  },
  {
   "cell_type": "code",
   "execution_count": 8,
   "metadata": {},
   "outputs": [
    {
     "name": "stdout",
     "output_type": "stream",
     "text": [
      "3\n"
     ]
    }
   ],
   "source": [
    "list_of_strings=['aaaaaa','baaaaaa','sssssssssc','d','e']\n",
    "count=list(filter(lambda x: len(x)>5,list_of_strings))\n",
    "print(len(count))"
   ]
  },
  {
   "attachments": {},
   "cell_type": "markdown",
   "metadata": {},
   "source": [
    "Write a lambda function that takes in a string and returns a new string with all vowels removed."
   ]
  },
  {
   "cell_type": "code",
   "execution_count": 12,
   "metadata": {},
   "outputs": [
    {
     "name": "stdout",
     "output_type": "stream",
     "text": [
      "b\n"
     ]
    }
   ],
   "source": [
    "string = 'aaabaaaa'\n",
    "string_with_vowels_removed = ''.join(filter(lambda x: x != 'a', string))\n",
    "print(string_with_vowels_removed)\n"
   ]
  },
  {
   "attachments": {},
   "cell_type": "markdown",
   "metadata": {},
   "source": [
    "Given a list of integers, use a lambda function to create a new list that contains only the even numbers."
   ]
  },
  {
   "cell_type": "code",
   "execution_count": 13,
   "metadata": {},
   "outputs": [
    {
     "name": "stdout",
     "output_type": "stream",
     "text": [
      "[2, 4]\n"
     ]
    }
   ],
   "source": [
    "num_list=[1,2,3,4,5]\n",
    "print(list(filter(lambda x: x%2==0,num_list)))"
   ]
  },
  {
   "attachments": {},
   "cell_type": "markdown",
   "metadata": {},
   "source": [
    "Write a lambda function that takes in a list of tuples, where each tuple contains a name and an age, and returns a list of names of people who are over 18 years old."
   ]
  },
  {
   "cell_type": "code",
   "execution_count": 14,
   "metadata": {},
   "outputs": [
    {
     "name": "stdout",
     "output_type": "stream",
     "text": [
      "[('b', 20), ('c', 30), ('d', 40), ('e', 50)]\n"
     ]
    }
   ],
   "source": [
    "list_of_names_ages=[('a',10),('b',20),('c',30),('d',40),('e',50)]\n",
    "print(list(filter(lambda x:x[-1]>18,list_of_names_ages)))"
   ]
  },
  {
   "attachments": {},
   "cell_type": "markdown",
   "metadata": {},
   "source": [
    "Given a list of dictionaries, use a lambda function to sort the list based on a specific key in each dictionary."
   ]
  }
 ],
 "metadata": {
  "kernelspec": {
   "display_name": "base",
   "language": "python",
   "name": "python3"
  },
  "language_info": {
   "codemirror_mode": {
    "name": "ipython",
    "version": 3
   },
   "file_extension": ".py",
   "mimetype": "text/x-python",
   "name": "python",
   "nbconvert_exporter": "python",
   "pygments_lexer": "ipython3",
   "version": "3.9.13"
  },
  "orig_nbformat": 4
 },
 "nbformat": 4,
 "nbformat_minor": 2
}
