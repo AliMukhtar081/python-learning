{
 "cells": [
  {
   "cell_type": "code",
   "execution_count": 5,
   "metadata": {},
   "outputs": [
    {
     "name": "stdout",
     "output_type": "stream",
     "text": [
      "['a', 'a', 'a', 'a', 'b'] ['b', 'b', 'b', 'a']\n"
     ]
    }
   ],
   "source": [
    "def string_trucnate(string1, string2):\n",
    "    string1[-1] , string2[-1] = string2[-1], string1[-1]\n",
    "\n",
    "    string1=str(string1)\n",
    "    string2=str(string2)\n",
    "    return string1+\" \"+string2\n",
    "\n",
    "\n",
    "string1= \"aaaaa\"\n",
    "string1=list(string1)\n",
    "string2= \"bbbb\"\n",
    "string2=list(string2)\n",
    "\n",
    "result =str(string_trucnate(string1, string2))\n",
    "print(result)"
   ]
  },
  {
   "cell_type": "code",
   "execution_count": 6,
   "metadata": {},
   "outputs": [
    {
     "name": "stdout",
     "output_type": "stream",
     "text": [
      "pox mid\n"
     ]
    }
   ],
   "source": [
    "def mix_up(a, b):\n",
    "    # Swap the first two characters of each string\n",
    "    a_swapped = b[:2] + a[2:]\n",
    "    b_swapped = a[:2] + b[2:]\n",
    "    # Combine the two strings with a space in between\n",
    "    result = a_swapped + \" \" + b_swapped\n",
    "    return result\n",
    "\n",
    "print(mix_up('mix', 'pod'))"
   ]
  },
  {
   "cell_type": "code",
   "execution_count": 15,
   "metadata": {},
   "outputs": [
    {
     "name": "stdout",
     "output_type": "stream",
     "text": [
      "2\n"
     ]
    }
   ],
   "source": [
    "def match_first_last(string1,string2):\n",
    "    if string1[0]==string2[0] and string1[-1]==string2[-1]:\n",
    "        return True\n",
    "    else:\n",
    "        return False\n",
    "\n",
    "\n",
    "string1= \"aaaaa\"\n",
    "string1=list(string1)\n",
    "string2= \"abba\"\n",
    "string2=list(string2)\n",
    "\n",
    "\n",
    "list_of_strings = [\"home\", \"classroom\", \"car\", \"window\", \"house\", \"clam\"]\n",
    "count = 0\n",
    "\n",
    "# Iterate over pairs of strings in the list only once\n",
    "for i in range(len(list_of_strings)):\n",
    "    for j in range(i+1, len(list_of_strings)):\n",
    "        # Check if the first and last characters match\n",
    "        if list_of_strings[i][0] == list_of_strings[j][0] and list_of_strings[i][-1] == list_of_strings[j][-1]:\n",
    "            count += 1\n",
    "print(count)\n"
   ]
  },
  {
   "cell_type": "code",
   "execution_count": 22,
   "metadata": {},
   "outputs": [
    {
     "name": "stdout",
     "output_type": "stream",
     "text": [
      "[(1, 7), (1, 3), (3, 4, 5), (2, 2)]\n",
      "[(1, 7), (3, 4, 5), (1, 3), (2, 2)]\n"
     ]
    }
   ],
   "source": [
    "tuple_list=[(1, 7), (1, 3), (3, 4, 5), (2, 2)]\n",
    "print(tuple_list)\n",
    "for i in range(len(tuple_list)):\n",
    "    for j in range(i+1,len(tuple_list)):\n",
    "        if tuple_list[i][-1] < tuple_list[j][-1]:\n",
    "         tuple_list[i] ,tuple_list[j]= tuple_list[j], tuple_list[i]\n",
    "\n",
    "\n",
    "print(tuple_list)"
   ]
  }
 ],
 "metadata": {
  "kernelspec": {
   "display_name": "base",
   "language": "python",
   "name": "python3"
  },
  "language_info": {
   "codemirror_mode": {
    "name": "ipython",
    "version": 3
   },
   "file_extension": ".py",
   "mimetype": "text/x-python",
   "name": "python",
   "nbconvert_exporter": "python",
   "pygments_lexer": "ipython3",
   "version": "3.9.13"
  },
  "orig_nbformat": 4
 },
 "nbformat": 4,
 "nbformat_minor": 2
}
