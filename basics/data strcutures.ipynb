{
 "cells": [
  {
   "cell_type": "code",
   "execution_count": 5,
   "metadata": {},
   "outputs": [
    {
     "name": "stdout",
     "output_type": "stream",
     "text": [
      "['a', 'a', 'a', 'a', 'b'] ['b', 'b', 'b', 'a']\n"
     ]
    }
   ],
   "source": [
    "def string_trucnate(string1, string2):\n",
    "    string1[-1] , string2[-1] = string2[-1], string1[-1]\n",
    "\n",
    "    string1=str(string1)\n",
    "    string2=str(string2)\n",
    "    return string1+\" \"+string2\n",
    "\n",
    "\n",
    "string1= \"aaaaa\"\n",
    "string1=list(string1)\n",
    "string2= \"bbbb\"\n",
    "string2=list(string2)\n",
    "\n",
    "result =str(string_trucnate(string1, string2))\n",
    "print(result)"
   ]
  },
  {
   "cell_type": "code",
   "execution_count": 6,
   "metadata": {},
   "outputs": [
    {
     "name": "stdout",
     "output_type": "stream",
     "text": [
      "pox mid\n"
     ]
    }
   ],
   "source": [
    "def mix_up(a, b):\n",
    "    # Swap the first two characters of each string\n",
    "    a_swapped = b[:2] + a[2:]\n",
    "    b_swapped = a[:2] + b[2:]\n",
    "    # Combine the two strings with a space in between\n",
    "    result = a_swapped + \" \" + b_swapped\n",
    "    return result\n",
    "\n",
    "print(mix_up('mix', 'pod'))"
   ]
  }
 ],
 "metadata": {
  "kernelspec": {
   "display_name": "base",
   "language": "python",
   "name": "python3"
  },
  "language_info": {
   "codemirror_mode": {
    "name": "ipython",
    "version": 3
   },
   "file_extension": ".py",
   "mimetype": "text/x-python",
   "name": "python",
   "nbconvert_exporter": "python",
   "pygments_lexer": "ipython3",
   "version": "3.9.13"
  },
  "orig_nbformat": 4
 },
 "nbformat": 4,
 "nbformat_minor": 2
}
