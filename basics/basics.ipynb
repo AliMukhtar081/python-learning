{
 "cells": [
  {
   "cell_type": "code",
   "execution_count": 15,
   "metadata": {},
   "outputs": [
    {
     "name": "stdout",
     "output_type": "stream",
     "text": [
      "['h', 'e', 'l', 'l', 'o']\n",
      "0\n",
      "1\n",
      "['o', 'l', 'l', 'e', 'h']\n"
     ]
    }
   ],
   "source": [
    "Input= list()\n",
    "\n",
    "length=int(input(\"Enter the length of the list: \"))\n",
    "\n",
    "for i in range(length):\n",
    " char=input(\"Enter the element: \")\n",
    " Input.append(char)\n",
    "\n",
    "print(Input)\n",
    "\n",
    "for i in range(len(Input)//2):\n",
    "    Input[i],Input[len(Input)-1-i]=Input[len(Input)-1-i],Input[i]\n",
    "\n",
    "\n",
    "print(Input)"
   ]
  }
 ],
 "metadata": {
  "kernelspec": {
   "display_name": "base",
   "language": "python",
   "name": "python3"
  },
  "language_info": {
   "codemirror_mode": {
    "name": "ipython",
    "version": 3
   },
   "file_extension": ".py",
   "mimetype": "text/x-python",
   "name": "python",
   "nbconvert_exporter": "python",
   "pygments_lexer": "ipython3",
   "version": "3.9.13"
  },
  "orig_nbformat": 4
 },
 "nbformat": 4,
 "nbformat_minor": 2
}
