{
 "cells": [
  {
   "cell_type": "code",
   "execution_count": 15,
   "metadata": {},
   "outputs": [
    {
     "name": "stdout",
     "output_type": "stream",
     "text": [
      "['h', 'e', 'l', 'l', 'o']\n",
      "0\n",
      "1\n",
      "['o', 'l', 'l', 'e', 'h']\n"
     ]
    }
   ],
   "source": [
    "Input= list()\n",
    "\n",
    "length=int(input(\"Enter the length of the list: \"))\n",
    "\n",
    "for i in range(length):\n",
    " char=input(\"Enter the element: \")\n",
    " Input.append(char)\n",
    "\n",
    "print(Input)\n",
    "\n",
    "for i in range(len(Input)//2):\n",
    "    Input[i],Input[len(Input)-1-i]=Input[len(Input)-1-i],Input[i]\n",
    "\n",
    "\n",
    "print(Input)"
   ]
  },
  {
   "cell_type": "code",
   "execution_count": 17,
   "metadata": {},
   "outputs": [
    {
     "name": "stdout",
     "output_type": "stream",
     "text": [
      "['h', 'e', 'l', 'l', 'o']\n",
      "['o', 'l', 'l', 'e', 'h']\n"
     ]
    }
   ],
   "source": [
    "Input= list()\n",
    "\n",
    "length=int(input(\"Enter the length of the list: \"))\n",
    "\n",
    "for i in range(length):\n",
    " char=input(\"Enter the element: \")\n",
    " Input.append(char)\n",
    "\n",
    "print(Input)\n",
    "\n",
    "#Here, we've omitted the start and end values, which means the slice spans the entire sequence. The step value is -1, which indicates that the slice should include elements from the end to the beginning of the sequence, essentially reversing it.\n",
    "revered_list=Input[::-1]\n",
    "\n",
    "print(revered_list)"
   ]
  },
  {
   "cell_type": "code",
   "execution_count": 29,
   "metadata": {},
   "outputs": [
    {
     "name": "stdout",
     "output_type": "stream",
     "text": [
      "a a\n",
      "a b\n",
      "not palindrome\n"
     ]
    }
   ],
   "source": [
    "\n",
    "input=[\"a\",\"a\",\"b\",\"b\",\"a\"]\n",
    "\n",
    "palindrome=1\n",
    "for i in range(len(input)//2):\n",
    "    print(input[i],input[len(input)-1-i])\n",
    "    if input[i] !=input[len(input)-1-i]:\n",
    "     palindrome=0\n",
    "\n",
    "if palindrome==1:\n",
    "    print(\"palindrome\")\n",
    "else:\n",
    "    print(\"not palindrome\")\n",
    "\n",
    "\n"
   ]
  },
  {
   "cell_type": "code",
   "execution_count": 30,
   "metadata": {},
   "outputs": [
    {
     "name": "stdout",
     "output_type": "stream",
     "text": [
      "not palindrome\n"
     ]
    }
   ],
   "source": [
    "input = [\"a\",\"a\",\"b\",\"b\",\"a\"]\n",
    "is_palindrome = all(input[i] == input[-i-1] for i in range(len(input)//2))\n",
    "if is_palindrome:\n",
    "    print(\"palindrome\")\n",
    "else:\n",
    "    print(\"not palindrome\")"
   ]
  }
 ],
 "metadata": {
  "kernelspec": {
   "display_name": "base",
   "language": "python",
   "name": "python3"
  },
  "language_info": {
   "codemirror_mode": {
    "name": "ipython",
    "version": 3
   },
   "file_extension": ".py",
   "mimetype": "text/x-python",
   "name": "python",
   "nbconvert_exporter": "python",
   "pygments_lexer": "ipython3",
   "version": "3.9.13"
  },
  "orig_nbformat": 4
 },
 "nbformat": 4,
 "nbformat_minor": 2
}
