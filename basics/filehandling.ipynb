{
 "cells": [
  {
   "cell_type": "code",
   "execution_count": null,
   "metadata": {},
   "outputs": [],
   "source": [
    "with open(\"example.txt\", \"r\") as file:\n",
    "    # Read lines and add data to a list\n",
    "    lines = [line.strip() for line in file.readlines()]\n",
    "\n",
    "# Access character by character\n",
    "for line in lines:\n",
    "    for character in line:\n",
    "        print(character)\n"
   ]
  }
 ],
 "metadata": {
  "language_info": {
   "name": "python"
  },
  "orig_nbformat": 4
 },
 "nbformat": 4,
 "nbformat_minor": 2
}
