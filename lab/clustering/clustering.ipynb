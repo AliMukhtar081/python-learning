{
 "cells": [
  {
   "cell_type": "code",
   "execution_count": 6,
   "metadata": {},
   "outputs": [
    {
     "name": "stdout",
     "output_type": "stream",
     "text": [
      "Requirement already satisfied: pandas in g:\\software\\lib\\site-packages (1.4.4)\n",
      "Requirement already satisfied: pytz>=2020.1 in g:\\software\\lib\\site-packages (from pandas) (2022.1)\n",
      "Requirement already satisfied: python-dateutil>=2.8.1 in g:\\software\\lib\\site-packages (from pandas) (2.8.2)\n",
      "Requirement already satisfied: numpy>=1.18.5 in g:\\software\\lib\\site-packages (from pandas) (1.21.5)\n",
      "Requirement already satisfied: six>=1.5 in g:\\software\\lib\\site-packages (from python-dateutil>=2.8.1->pandas) (1.16.0)\n",
      "Requirement already satisfied: scikit-learn in g:\\software\\lib\\site-packages (1.0.2)\n",
      "Requirement already satisfied: threadpoolctl>=2.0.0 in g:\\software\\lib\\site-packages (from scikit-learn) (2.2.0)\n",
      "Requirement already satisfied: scipy>=1.1.0 in g:\\software\\lib\\site-packages (from scikit-learn) (1.9.1)\n",
      "Requirement already satisfied: numpy>=1.14.6 in g:\\software\\lib\\site-packages (from scikit-learn) (1.21.5)\n",
      "Requirement already satisfied: joblib>=0.11 in g:\\software\\lib\\site-packages (from scikit-learn) (1.1.0)\n",
      "Collecting scikit-learn-extra\n",
      "  Downloading scikit_learn_extra-0.3.0-cp39-cp39-win_amd64.whl (346 kB)\n",
      "     -------------------------------------- 346.2/346.2 kB 2.2 MB/s eta 0:00:00\n",
      "Requirement already satisfied: scipy>=0.19.1 in g:\\software\\lib\\site-packages (from scikit-learn-extra) (1.9.1)\n",
      "Requirement already satisfied: numpy>=1.13.3 in g:\\software\\lib\\site-packages (from scikit-learn-extra) (1.21.5)\n",
      "Requirement already satisfied: scikit-learn>=0.23.0 in g:\\software\\lib\\site-packages (from scikit-learn-extra) (1.0.2)\n",
      "Requirement already satisfied: joblib>=0.11 in g:\\software\\lib\\site-packages (from scikit-learn>=0.23.0->scikit-learn-extra) (1.1.0)\n",
      "Requirement already satisfied: threadpoolctl>=2.0.0 in g:\\software\\lib\\site-packages (from scikit-learn>=0.23.0->scikit-learn-extra) (2.2.0)\n",
      "Installing collected packages: scikit-learn-extra\n",
      "Successfully installed scikit-learn-extra-0.3.0\n",
      "Requirement already satisfied: matplotlib in g:\\software\\lib\\site-packages (3.5.2)\n",
      "Requirement already satisfied: packaging>=20.0 in g:\\software\\lib\\site-packages (from matplotlib) (21.3)\n",
      "Requirement already satisfied: pyparsing>=2.2.1 in g:\\software\\lib\\site-packages (from matplotlib) (3.0.9)\n",
      "Requirement already satisfied: python-dateutil>=2.7 in g:\\software\\lib\\site-packages (from matplotlib) (2.8.2)\n",
      "Requirement already satisfied: numpy>=1.17 in g:\\software\\lib\\site-packages (from matplotlib) (1.21.5)\n",
      "Requirement already satisfied: kiwisolver>=1.0.1 in g:\\software\\lib\\site-packages (from matplotlib) (1.4.2)\n",
      "Requirement already satisfied: cycler>=0.10 in g:\\software\\lib\\site-packages (from matplotlib) (0.11.0)\n",
      "Requirement already satisfied: fonttools>=4.22.0 in g:\\software\\lib\\site-packages (from matplotlib) (4.25.0)\n",
      "Requirement already satisfied: pillow>=6.2.0 in g:\\software\\lib\\site-packages (from matplotlib) (9.2.0)\n",
      "Requirement already satisfied: six>=1.5 in g:\\software\\lib\\site-packages (from python-dateutil>=2.7->matplotlib) (1.16.0)\n"
     ]
    }
   ],
   "source": [
    "!pip install pandas\n",
    "!pip install scikit-learn\n",
    "!pip install scikit-learn-extra\n",
    "!pip install matplotlib\n"
   ]
  },
  {
   "cell_type": "code",
   "execution_count": 8,
   "metadata": {},
   "outputs": [
    {
     "name": "stdout",
     "output_type": "stream",
     "text": [
      "<bound method NDFrame.head of      CUST_ID      BALANCE  BALANCE_FREQUENCY  PURCHASES  ONEOFF_PURCHASES  \\\n",
      "0     C10001    40.900749           0.818182      95.40              0.00   \n",
      "1     C10002  3202.467416           0.909091       0.00              0.00   \n",
      "2     C10003  2495.148862           1.000000     773.17            773.17   \n",
      "3     C10004  1666.670542           0.636364    1499.00           1499.00   \n",
      "4     C10005   817.714335           1.000000      16.00             16.00   \n",
      "...      ...          ...                ...        ...               ...   \n",
      "8945  C19186    28.493517           1.000000     291.12              0.00   \n",
      "8946  C19187    19.183215           1.000000     300.00              0.00   \n",
      "8947  C19188    23.398673           0.833333     144.40              0.00   \n",
      "8948  C19189    13.457564           0.833333       0.00              0.00   \n",
      "8949  C19190   372.708075           0.666667    1093.25           1093.25   \n",
      "\n",
      "      INSTALLMENTS_PURCHASES  CASH_ADVANCE  PURCHASES_FREQUENCY  \\\n",
      "0                      95.40      0.000000             0.166667   \n",
      "1                       0.00   6442.945483             0.000000   \n",
      "2                       0.00      0.000000             1.000000   \n",
      "3                       0.00    205.788017             0.083333   \n",
      "4                       0.00      0.000000             0.083333   \n",
      "...                      ...           ...                  ...   \n",
      "8945                  291.12      0.000000             1.000000   \n",
      "8946                  300.00      0.000000             1.000000   \n",
      "8947                  144.40      0.000000             0.833333   \n",
      "8948                    0.00     36.558778             0.000000   \n",
      "8949                    0.00    127.040008             0.666667   \n",
      "\n",
      "      ONEOFF_PURCHASES_FREQUENCY  PURCHASES_INSTALLMENTS_FREQUENCY  \\\n",
      "0                       0.000000                          0.083333   \n",
      "1                       0.000000                          0.000000   \n",
      "2                       1.000000                          0.000000   \n",
      "3                       0.083333                          0.000000   \n",
      "4                       0.083333                          0.000000   \n",
      "...                          ...                               ...   \n",
      "8945                    0.000000                          0.833333   \n",
      "8946                    0.000000                          0.833333   \n",
      "8947                    0.000000                          0.666667   \n",
      "8948                    0.000000                          0.000000   \n",
      "8949                    0.666667                          0.000000   \n",
      "\n",
      "      CASH_ADVANCE_FREQUENCY  CASH_ADVANCE_TRX  PURCHASES_TRX  CREDIT_LIMIT  \\\n",
      "0                   0.000000                 0              2        1000.0   \n",
      "1                   0.250000                 4              0        7000.0   \n",
      "2                   0.000000                 0             12        7500.0   \n",
      "3                   0.083333                 1              1        7500.0   \n",
      "4                   0.000000                 0              1        1200.0   \n",
      "...                      ...               ...            ...           ...   \n",
      "8945                0.000000                 0              6        1000.0   \n",
      "8946                0.000000                 0              6        1000.0   \n",
      "8947                0.000000                 0              5        1000.0   \n",
      "8948                0.166667                 2              0         500.0   \n",
      "8949                0.333333                 2             23        1200.0   \n",
      "\n",
      "         PAYMENTS  MINIMUM_PAYMENTS  PRC_FULL_PAYMENT  TENURE  \n",
      "0      201.802084        139.509787          0.000000      12  \n",
      "1     4103.032597       1072.340217          0.222222      12  \n",
      "2      622.066742        627.284787          0.000000      12  \n",
      "3        0.000000               NaN          0.000000      12  \n",
      "4      678.334763        244.791237          0.000000      12  \n",
      "...           ...               ...               ...     ...  \n",
      "8945   325.594462         48.886365          0.500000       6  \n",
      "8946   275.861322               NaN          0.000000       6  \n",
      "8947    81.270775         82.418369          0.250000       6  \n",
      "8948    52.549959         55.755628          0.250000       6  \n",
      "8949    63.165404         88.288956          0.000000       6  \n",
      "\n",
      "[8950 rows x 18 columns]>\n"
     ]
    }
   ],
   "source": [
    "from sklearn.cluster import KMeans \n",
    "from sklearn_extra.cluster import KMedoids\n",
    "import matplotlib.pyplot as plt\n",
    "import pandas as pd\n",
    "\n",
    "from sklearn.preprocessing import StandardScaler\n",
    "data=pd.read_csv(\"credit_card.csv\")\n",
    "print(data.head)\n"
   ]
  },
  {
   "cell_type": "code",
   "execution_count": 18,
   "metadata": {},
   "outputs": [
    {
     "data": {
      "image/png": "[encoded data removed]",
      "text/plain": [
       "<Figure size 640x480 with 1 Axes>"
      ]
     },
     "metadata": {},
     "output_type": "display_data"
    }
   ],
   "source": [
    "data=data.select_dtypes(exclude=['object','category'])\n",
    "data=data.dropna()\n",
    "scaler=StandardScaler()\n",
    "data_s=scaler.fit_transform(data)\n",
    "\n",
    "\n",
    "\n",
    "k_range = range(1, 11)\n",
    "kmeans_inertias = []\n",
    "kmedoids_inertias = []\n",
    "\n",
    "for k in k_range:\n",
    "    kmeans = KMeans(n_clusters=k).fit(data_s)\n",
    "    kmedoids = KMedoids(n_clusters=k).fit(data_s)\n",
    "    kmeans_inertias.append(kmeans.inertia_)\n",
    "    kmedoids_inertias.append(kmedoids.inertia_)\n",
    "\n",
    "plt.plot(k_range, kmeans_inertias,\"-o\",label=\"KMeans\")\n",
    "plt.legend()\n",
    "plt.show()\n"
   ]
  }
 ],
 "metadata": {
  "kernelspec": {
   "display_name": "base",
   "language": "python",
   "name": "python3"
  },
  "language_info": {
   "codemirror_mode": {
    "name": "ipython",
    "version": 3
   },
   "file_extension": ".py",
   "mimetype": "text/x-python",
   "name": "python",
   "nbconvert_exporter": "python",
   "pygments_lexer": "ipython3",
   "version": "3.9.13"
  },
  "orig_nbformat": 4
 },
 "nbformat": 4,
 "nbformat_minor": 2
}
