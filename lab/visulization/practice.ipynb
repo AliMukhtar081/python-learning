{
 "cells": [
  {
   "cell_type": "code",
   "execution_count": 40,
   "metadata": {},
   "outputs": [
    {
     "name": "stdout",
     "output_type": "stream",
     "text": [
      "Requirement already satisfied: matplotlib in c:\\python311\\lib\\site-packages (3.7.1)\n",
      "Requirement already satisfied: contourpy>=1.0.1 in c:\\python311\\lib\\site-packages (from matplotlib) (1.0.7)\n",
      "Requirement already satisfied: cycler>=0.10 in c:\\python311\\lib\\site-packages (from matplotlib) (0.11.0)\n",
      "Requirement already satisfied: fonttools>=4.22.0 in c:\\python311\\lib\\site-packages (from matplotlib) (4.40.0)\n",
      "Requirement already satisfied: kiwisolver>=1.0.1 in c:\\python311\\lib\\site-packages (from matplotlib) (1.4.4)\n",
      "Requirement already satisfied: numpy>=1.20 in c:\\python311\\lib\\site-packages (from matplotlib) (1.24.3)\n",
      "Requirement already satisfied: packaging>=20.0 in c:\\users\\user\\appdata\\roaming\\python\\python311\\site-packages (from matplotlib) (23.1)\n",
      "Requirement already satisfied: pillow>=6.2.0 in c:\\python311\\lib\\site-packages (from matplotlib) (9.5.0)\n",
      "Requirement already satisfied: pyparsing>=2.3.1 in c:\\python311\\lib\\site-packages (from matplotlib) (3.0.9)\n",
      "Requirement already satisfied: python-dateutil>=2.7 in c:\\users\\user\\appdata\\roaming\\python\\python311\\site-packages (from matplotlib) (2.8.2)\n",
      "Requirement already satisfied: six>=1.5 in c:\\users\\user\\appdata\\roaming\\python\\python311\\site-packages (from python-dateutil>=2.7->matplotlib) (1.16.0)\n",
      "Requirement already satisfied: pandas in c:\\python311\\lib\\site-packages (2.0.2)\n",
      "Requirement already satisfied: python-dateutil>=2.8.2 in c:\\users\\user\\appdata\\roaming\\python\\python311\\site-packages (from pandas) (2.8.2)\n",
      "Requirement already satisfied: pytz>=2020.1 in c:\\python311\\lib\\site-packages (from pandas) (2023.3)\n",
      "Requirement already satisfied: tzdata>=2022.1 in c:\\python311\\lib\\site-packages (from pandas) (2023.3)\n",
      "Requirement already satisfied: numpy>=1.21.0 in c:\\python311\\lib\\site-packages (from pandas) (1.24.3)\n",
      "Requirement already satisfied: six>=1.5 in c:\\users\\user\\appdata\\roaming\\python\\python311\\site-packages (from python-dateutil>=2.8.2->pandas) (1.16.0)\n",
      "Collecting seaborn\n",
      "  Downloading seaborn-0.12.2-py3-none-any.whl (293 kB)\n",
      "                                              0.0/293.3 kB ? eta -:--:--\n",
      "     ---                                   30.7/293.3 kB 640.0 kB/s eta 0:00:01\n",
      "     ---                                   30.7/293.3 kB 640.0 kB/s eta 0:00:01\n",
      "     ---                                   30.7/293.3 kB 640.0 kB/s eta 0:00:01\n",
      "     ---------                             71.7/293.3 kB 326.8 kB/s eta 0:00:01\n",
      "     -------------                        112.6/293.3 kB 467.6 kB/s eta 0:00:01\n",
      "     ---------------                      122.9/293.3 kB 399.4 kB/s eta 0:00:01\n",
      "     -----------------------              194.6/293.3 kB 560.2 kB/s eta 0:00:01\n",
      "     ----------------------------         235.5/293.3 kB 625.8 kB/s eta 0:00:01\n",
      "     -------------------------------      256.0/293.3 kB 582.4 kB/s eta 0:00:01\n",
      "     ------------------------------------ 293.3/293.3 kB 623.4 kB/s eta 0:00:00\n",
      "Requirement already satisfied: numpy!=1.24.0,>=1.17 in c:\\python311\\lib\\site-packages (from seaborn) (1.24.3)\n",
      "Requirement already satisfied: pandas>=0.25 in c:\\python311\\lib\\site-packages (from seaborn) (2.0.2)\n",
      "Requirement already satisfied: matplotlib!=3.6.1,>=3.1 in c:\\python311\\lib\\site-packages (from seaborn) (3.7.1)\n",
      "Requirement already satisfied: contourpy>=1.0.1 in c:\\python311\\lib\\site-packages (from matplotlib!=3.6.1,>=3.1->seaborn) (1.0.7)\n",
      "Requirement already satisfied: cycler>=0.10 in c:\\python311\\lib\\site-packages (from matplotlib!=3.6.1,>=3.1->seaborn) (0.11.0)\n",
      "Requirement already satisfied: fonttools>=4.22.0 in c:\\python311\\lib\\site-packages (from matplotlib!=3.6.1,>=3.1->seaborn) (4.40.0)\n",
      "Requirement already satisfied: kiwisolver>=1.0.1 in c:\\python311\\lib\\site-packages (from matplotlib!=3.6.1,>=3.1->seaborn) (1.4.4)\n",
      "Requirement already satisfied: packaging>=20.0 in c:\\users\\user\\appdata\\roaming\\python\\python311\\site-packages (from matplotlib!=3.6.1,>=3.1->seaborn) (23.1)\n",
      "Requirement already satisfied: pillow>=6.2.0 in c:\\python311\\lib\\site-packages (from matplotlib!=3.6.1,>=3.1->seaborn) (9.5.0)\n",
      "Requirement already satisfied: pyparsing>=2.3.1 in c:\\python311\\lib\\site-packages (from matplotlib!=3.6.1,>=3.1->seaborn) (3.0.9)\n",
      "Requirement already satisfied: python-dateutil>=2.7 in c:\\users\\user\\appdata\\roaming\\python\\python311\\site-packages (from matplotlib!=3.6.1,>=3.1->seaborn) (2.8.2)\n",
      "Requirement already satisfied: pytz>=2020.1 in c:\\python311\\lib\\site-packages (from pandas>=0.25->seaborn) (2023.3)\n",
      "Requirement already satisfied: tzdata>=2022.1 in c:\\python311\\lib\\site-packages (from pandas>=0.25->seaborn) (2023.3)\n",
      "Requirement already satisfied: six>=1.5 in c:\\users\\user\\appdata\\roaming\\python\\python311\\site-packages (from python-dateutil>=2.7->matplotlib!=3.6.1,>=3.1->seaborn) (1.16.0)\n",
      "Installing collected packages: seaborn\n",
      "Successfully installed seaborn-0.12.2\n"
     ]
    }
   ],
   "source": [
    "!pip install matplotlib\n",
    "!pip install pandas\n",
    "import matplotlib.pyplot as plt\n",
    "import numpy as np\n",
    "import pandas as pd\n",
    "!pip install seaborn\n",
    "import seaborn as sb"
   ]
  },
  {
   "cell_type": "code",
   "execution_count": 39,
   "metadata": {},
   "outputs": [
    {
     "data": {
      "image/png": "[encoded data removed]",
      "text/plain": [
       "<Figure size 1000x600 with 1 Axes>"
      ]
     },
     "metadata": {},
     "output_type": "display_data"
    },
    {
     "name": "stdout",
     "output_type": "stream",
     "text": [
      "0        (150, 175]\n",
      "1        (175, 200]\n",
      "2        (125, 150]\n",
      "3        (150, 175]\n",
      "4        (150, 175]\n",
      "            ...    \n",
      "18202    (125, 150]\n",
      "18203    (150, 175]\n",
      "18204    (125, 150]\n",
      "18205    (150, 175]\n",
      "18206    (175, 200]\n",
      "Name: Weight, Length: 18207, dtype: category\n",
      "Categories (5, interval[int64, right]): [(0, 125] < (125, 150] < (150, 175] < (175, 200] < (200, 9000]]\n"
     ]
    }
   ],
   "source": [
    "import pandas as pd\n",
    "import matplotlib.pyplot as plt\n",
    "\n",
    "# Read the dataset\n",
    "data = pd.read_csv(\"fifa_dataset.csv\")\n",
    "# Assuming \"Weight\" is the column name\n",
    "data['Weight'] = data['Weight'].str.replace('lbs', '')\n",
    "data['Weight'] = data['Weight'].fillna(0).astype(int)\n",
    "# Selecting Age column, assuming \"Age\" is the correct column name in your dataset.\n",
    "agedata = data[\"Weight\"]\n",
    "\n",
    "# Define your ranges. Adjust this according to your needs\n",
    "bins = [0, 125, 150, 175, 200,9000]\n",
    "\n",
    "# Use pd.cut to create categories\n",
    "categories = pd.cut(agedata, bins)\n",
    "\n",
    "# Count the number of items in each category\n",
    "counts = categories.value_counts()\n",
    "\n",
    "# Define category names\n",
    "categorynames = [\"<125\", \"125-150\", \"150-175\", \"175-200\", \">200\"]\n",
    "plt.figure(figsize=(10,6))\n",
    "# Create a pie chart\n",
    "plt.pie(counts, labels=categorynames)\n",
    "plt.title('Pie Chart of Age Ranges')\n",
    "plt.show()\n",
    "\n",
    "print(categories)"
   ]
  },
  {
   "cell_type": "code",
   "execution_count": 44,
   "metadata": {},
   "outputs": [
    {
     "name": "stdout",
     "output_type": "stream",
     "text": [
      "       Unnamed: 0      ID  Age  Overall  Potential  Special  \\\n",
      "0               0  158023   31       94         94     2202   \n",
      "1               1   20801   33       94         94     2228   \n",
      "2               2  190871   26       92         93     2143   \n",
      "3               3  193080   27       91         93     1471   \n",
      "4               4  192985   27       91         92     2281   \n",
      "...           ...     ...  ...      ...        ...      ...   \n",
      "18202       18202  238813   19       47         65     1307   \n",
      "18203       18203  243165   19       47         63     1098   \n",
      "18204       18204  241638   16       47         67     1189   \n",
      "18205       18205  246268   17       47         66     1228   \n",
      "18206       18206  246269   16       46         66     1321   \n",
      "\n",
      "       International Reputation  Weak Foot  Skill Moves  Jersey Number  ...  \\\n",
      "0                           5.0        4.0          4.0           10.0  ...   \n",
      "1                           5.0        4.0          5.0            7.0  ...   \n",
      "2                           5.0        5.0          5.0           10.0  ...   \n",
      "3                           4.0        3.0          1.0            1.0  ...   \n",
      "4                           4.0        5.0          4.0            7.0  ...   \n",
      "...                         ...        ...          ...            ...  ...   \n",
      "18202                       1.0        2.0          2.0           22.0  ...   \n",
      "18203                       1.0        2.0          2.0           21.0  ...   \n",
      "18204                       1.0        3.0          2.0           33.0  ...   \n",
      "18205                       1.0        3.0          2.0           34.0  ...   \n",
      "18206                       1.0        3.0          2.0           33.0  ...   \n",
      "\n",
      "       Penalties  Composure  Marking  StandingTackle  SlidingTackle  GKDiving  \\\n",
      "0           75.0       96.0     33.0            28.0           26.0       6.0   \n",
      "1           85.0       95.0     28.0            31.0           23.0       7.0   \n",
      "2           81.0       94.0     27.0            24.0           33.0       9.0   \n",
      "3           40.0       68.0     15.0            21.0           13.0      90.0   \n",
      "4           79.0       88.0     68.0            58.0           51.0      15.0   \n",
      "...          ...        ...      ...             ...            ...       ...   \n",
      "18202       43.0       45.0     40.0            48.0           47.0      10.0   \n",
      "18203       43.0       42.0     22.0            15.0           19.0      10.0   \n",
      "18204       55.0       41.0     32.0            13.0           11.0       6.0   \n",
      "18205       50.0       46.0     20.0            25.0           27.0      14.0   \n",
      "18206       33.0       43.0     40.0            43.0           50.0      10.0   \n",
      "\n",
      "       GKHandling  GKKicking  GKPositioning  GKReflexes  \n",
      "0            11.0       15.0           14.0         8.0  \n",
      "1            11.0       15.0           14.0        11.0  \n",
      "2             9.0       15.0           15.0        11.0  \n",
      "3            85.0       87.0           88.0        94.0  \n",
      "4            13.0        5.0           10.0        13.0  \n",
      "...           ...        ...            ...         ...  \n",
      "18202        13.0        7.0            8.0         9.0  \n",
      "18203         9.0        9.0            5.0        12.0  \n",
      "18204         5.0       10.0            6.0        13.0  \n",
      "18205         6.0       14.0            8.0         9.0  \n",
      "18206        15.0        9.0           12.0         9.0  \n",
      "\n",
      "[18207 rows x 45 columns]\n"
     ]
    }
   ],
   "source": [
    "data=pd.read_csv(\"fifa_dataset.csv\")\n",
    "\n",
    "\n",
    "\n",
    "data[\"Weight\"]=data[\"Weight\"].str.replace(\"lbs\",\" \")\n",
    "data[\"Weight\"]=data[\"Weight\"].fillna(0).astype(int)\n",
    "\n",
    "integer_columns = data.select_dtypes(include=[np.number])\n",
    "\n",
    "print(integer_columns)\n",
    "sb.heatmap(integer_columns, annot=True)"
   ]
  }
 ],
 "metadata": {
  "kernelspec": {
   "display_name": "Python 3",
   "language": "python",
   "name": "python3"
  },
  "language_info": {
   "codemirror_mode": {
    "name": "ipython",
    "version": 3
   },
   "file_extension": ".py",
   "mimetype": "text/x-python",
   "name": "python",
   "nbconvert_exporter": "python",
   "pygments_lexer": "ipython3",
   "version": "3.11.4"
  },
  "orig_nbformat": 4
 },
 "nbformat": 4,
 "nbformat_minor": 2
}
