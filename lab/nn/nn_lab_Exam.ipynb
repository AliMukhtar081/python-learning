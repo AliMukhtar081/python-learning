{
 "cells": [
  {
   "cell_type": "code",
   "execution_count": null,
   "metadata": {},
   "outputs": [],
   "source": [
    "import math\n",
    "import numpy as np\n",
    "\n",
    "# Defining the sigmoid function\n",
    "def sigmoid(x):\n",
    "    return 1 / (1 + math.exp(-x))\n",
    "\n",
    "# Defining the function for weighted sum of inputs\n",
    "def weighted_sum(inputs, weights, bias):\n",
    "    return np.dot(inputs, weights) + bias\n",
    "\n",
    "# Feedforward function\n",
    "def feedforward(input_vector):\n",
    "    # Converting list to numpy array for easier matrix operations\n",
    "    input_vector = np.array(input_vector)\n",
    "    input_weights = np.array([[0.1, 0.2, 0.3], [0.4, 0.5, 0.6], [0.7, 0.8, 0.9], [1.0, 1.1, 1.2]])\n",
    "    hidden_weights = np.array([[1.3, 1.4, 1.5, 1.6], [1.7, 1.8, 1.9, 2.0]])\n",
    "    output_weights = np.array([[2.1, 2.2], [2.3, 2.4], [2.5, 2.6], [2.7, 2.8]])\n",
    "    hidden_biases = np.array([0.9, 1.0, 1.1, 1.2])\n",
    "    output_biases = np.array([1.3, 1.4])\n",
    "\n",
    "    # Hidden layer operations\n",
    "    hidden_layer_inputs = weighted_sum(input_vector, input_weights, hidden_biases)\n",
    "    hidden_layer_outputs = np.array([sigmoid(x) for x in hidden_layer_inputs])\n",
    "\n",
    "    # Output layer operations\n",
    "    output_layer_inputs = weighted_sum(hidden_layer_outputs, hidden_weights, output_biases)\n",
    "    output_layer_outputs = np.array([sigmoid(x) for x in output_layer_inputs])\n",
    "\n",
    "    return output_layer_outputs\n",
    "\n",
    "# Test the function with the example input vector\n",
    "input_vector = [0.1, 0.2, 0.3]\n",
    "output_vector = feedforward(input_vector)\n",
    "print(output_vector)\n"
   ]
  }
 ],
 "metadata": {
  "language_info": {
   "name": "python"
  },
  "orig_nbformat": 4
 },
 "nbformat": 4,
 "nbformat_minor": 2
}
