{
 "cells": [
  {
   "cell_type": "code",
   "execution_count": null,
   "metadata": {},
   "outputs": [],
   "source": [
    "import numpy as np\n",
    "from keras.models import Sequential\n",
    "from keras.layers import Dense\n",
    "from keras.optimizers import Adam\n",
    "from keras.losses import BinaryCrossentropy\n",
    "from keras.metrics import Accuracy\n",
    "\n",
    "# Assuming that your data are numpy arrays\n",
    "# For example:\n",
    "# x_train = np.random.rand(1000, 10) # 1000 samples, 10 features each\n",
    "# y_train = np.random.randint(0, 2, 1000) # 1000 labels (binary classification)\n",
    "# x_test = np.random.rand(200, 10) # 200 samples, 10 features each for testing\n",
    "# y_test = np.random.randint(0, 2, 200) # 200 labels (binary classification)\n",
    "\n",
    "# Create a Sequential model\n",
    "model = Sequential()\n",
    "\n",
    "# Add an input layer with 10 inputs, a hidden layer with 32 neurons, \n",
    "# and an output layer with 1 neuron\n",
    "model.add(Dense(32, input_dim=10, activation='relu'))\n",
    "model.add(Dense(1, activation='sigmoid'))\n",
    "\n",
    "# Compile the model\n",
    "model.compile(loss=BinaryCrossentropy(), optimizer=Adam(), metrics=[Accuracy()])\n",
    "\n",
    "# Train the model\n",
    "model.fit(x_train, y_train, epochs=10, batch_size=32)\n",
    "\n",
    "# Evaluate the model\n",
    "loss, accuracy = model.evaluate(x_test, y_test)\n",
    "print(f\"Loss: {loss}\")\n",
    "print(f\"Accuracy: {accuracy}\")\n"
   ]
  }
 ],
 "metadata": {
  "language_info": {
   "name": "python"
  },
  "orig_nbformat": 4
 },
 "nbformat": 4,
 "nbformat_minor": 2
}
