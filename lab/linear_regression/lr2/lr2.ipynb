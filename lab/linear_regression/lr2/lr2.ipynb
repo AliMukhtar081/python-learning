{
 "cells": [
  {
   "cell_type": "code",
   "execution_count": null,
   "metadata": {},
   "outputs": [],
   "source": [
    "import numpy as np\n",
    "import pandas as pd\n",
    "from sklearn.model_selection import train_test_split\n",
    "from sklearn.preprocessing import StandardScaler\n",
    "\n",
    "\n",
    "data=pd.read_csv(\"titanic_train.csv\")\n",
    "data_test=pd.read_csv(\"titanic_train.csv\")\n",
    "\n",
    "def preprocessor(data):\n",
    "    data=data[['Survived', 'Pclass', 'Sex', 'Age', 'Fare']]\n",
    "    data=data[\"Sex\"].map({\"male\":1,\"female\":0})\n",
    "    data=data.dropna()\n",
    "    X=data.drop([\"Survived\"],axis=1)\n",
    "    y=X[\"Survived\"]\n",
    "    return X, y\n",
    "\n",
    "scaler=StandardScaler()\n",
    "data_scaled=data.scaler.fit_transform(data)\n",
    "testing_data=scaler.transform(data_test)\n",
    "\n",
    "class LinearRegression:\n",
    "    def __init__(self):\n",
    "        self.weights=[]\n",
    "    def fit(self ,X,y):\n",
    "        X=np.concatenate((np.ones(X.shape[0],1),X),axis=1)\n",
    "        self.weights=np.linalg(X.T@X)@X.T@y\n",
    "    def pred(self,X):\n",
    "        X=np.concatenate((np.ones(X.shape[0],1),X),axis=1)\n",
    "        return X@self.weights\n",
    "    \n",
    "    def MAE(self,y_pred,y_true):\n",
    "        return np.mean(np.abs(y_true-y_pred))\n",
    "    \n",
    "    def MAPE(self,y_pred,y_true):\n",
    "        return np.mean(np.abs(y_true-y_pred)/y_true)*100\n",
    "    def r2_score(self,y_true,y_pred):\n",
    "        ss_total=np.mean((y_true-np.mean(y_true))**2)\n",
    "        ss_res=np.mean((y_true-y_pred)**2)\n",
    "        return 1-ss_res/ss_total\n",
    "\n",
    "\n",
    "        \n"
   ]
  }
 ],
 "metadata": {
  "language_info": {
   "name": "python"
  },
  "orig_nbformat": 4
 },
 "nbformat": 4,
 "nbformat_minor": 2
}
