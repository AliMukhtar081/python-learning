{
 "cells": [
  {
   "cell_type": "code",
   "execution_count": 8,
   "metadata": {},
   "outputs": [
    {
     "name": "stdout",
     "output_type": "stream",
     "text": [
      "Training MAE: 0.2980211802129321\n",
      "Training MAPE: inf\n",
      "Training R^2: 0.39020129996439834\n",
      "Weights: [ 0.40616246 -0.16788205  0.23051673 -0.07875988  0.00359625]\n"
     ]
    },
    {
     "name": "stderr",
     "output_type": "stream",
     "text": [
      "C:\\Users\\Ali Mukhtar\\AppData\\Local\\Temp\\ipykernel_12128\\1447616098.py:13: SettingWithCopyWarning: \n",
      "A value is trying to be set on a copy of a slice from a DataFrame.\n",
      "Try using .loc[row_indexer,col_indexer] = value instead\n",
      "\n",
      "See the caveats in the documentation: https://pandas.pydata.org/pandas-docs/stable/user_guide/indexing.html#returning-a-view-versus-a-copy\n",
      "  data['Sex'] = data['Sex'].map({'male': 0, 'female': 1})  # Convert 'Sex' from categorical to numerical\n",
      "C:\\Users\\Ali Mukhtar\\AppData\\Local\\Temp\\ipykernel_12128\\1447616098.py:21: SettingWithCopyWarning: \n",
      "A value is trying to be set on a copy of a slice from a DataFrame.\n",
      "Try using .loc[row_indexer,col_indexer] = value instead\n",
      "\n",
      "See the caveats in the documentation: https://pandas.pydata.org/pandas-docs/stable/user_guide/indexing.html#returning-a-view-versus-a-copy\n",
      "  data['Sex'] = data['Sex'].map({'male': 0, 'female': 1})  # Convert 'Sex' from categorical to numerical\n"
     ]
    }
   ],
   "source": [
    "import numpy as np\n",
    "import pandas as pd\n",
    "from sklearn.model_selection import train_test_split\n",
    "from sklearn.preprocessing import StandardScaler\n",
    "\n",
    "\n",
    "train_data = pd.read_csv('titanic_train.csv')\n",
    "test_data = pd.read_csv('titanic_test.csv')\n",
    "\n",
    "\n",
    "def preprocess_data(data):\n",
    "    data = data[['Survived', 'Pclass', 'Sex', 'Age', 'Fare']]\n",
    "    data['Sex'] = data['Sex'].map({'male': 0, 'female': 1})  \n",
    "    data = data.dropna()\n",
    "    X = data.drop('Survived', axis=1)\n",
    "    y = data['Survived']\n",
    "    return X, y\n",
    "\n",
    "def preprocess_test_data(data):\n",
    "    data = data[['Pclass', 'Sex', 'Age', 'Fare']]\n",
    "    data['Sex'] = data['Sex'].map({'male': 0, 'female': 1})  \n",
    "    data = data.dropna()\n",
    "    return data\n",
    "\n",
    "X_train, y_train = preprocess_data(train_data)\n",
    "X_test = preprocess_test_data(test_data)\n",
    "\n",
    "scaler = StandardScaler()\n",
    "X_train = scaler.fit_transform(X_train)\n",
    "X_test = scaler.transform(X_test)\n",
    "\n",
    "class LinearRegression:\n",
    "    def __init__(self):\n",
    "        self.weights = None\n",
    "\n",
    "    def fit(self, X, y):\n",
    "        X = np.concatenate((np.ones((X.shape[0], 1)), X), axis=1)\n",
    "        self.weights = np.linalg.inv(X.T @ X) @ X.T @ y\n",
    "\n",
    "    def predict(self, X):\n",
    "       \n",
    "        X = np.concatenate((np.ones((X.shape[0], 1)), X), axis=1)\n",
    "        return X @ self.weights \n",
    "\n",
    "    def MAE(self, y_true, y_pred):\n",
    "        return np.mean(np.abs(y_true - y_pred))\n",
    "\n",
    "    def MAPE(self, y_true, y_pred):\n",
    "        return np.mean(np.abs((y_true - y_pred) / y_true)) * 100\n",
    "\n",
    "    def r2_score(self, y_true, y_pred):\n",
    "        ss_total = np.sum((y_true - np.mean(y_true))**2)\n",
    "        ss_res = np.sum((y_true - y_pred)**2)\n",
    "        return 1 - (ss_res / ss_total)\n",
    "\n",
    "\n",
    "model = LinearRegression()\n",
    "model.fit(X_train, y_train)\n",
    "\n",
    "\n",
    "y_pred_train = model.predict(X_train)\n",
    "print(f'Training MAE: {model.MAE(y_train, y_pred_train)}')\n",
    "print(f'Training MAPE: {model.MAPE(y_train, y_pred_train)}')\n",
    "print(f'Training R^2: {model.r2_score(y_train, y_pred_train)}')\n",
    "\n",
    "\n",
    "print(f'Weights: {model.weights}')\n"
   ]
  },
  {
   "cell_type": "code",
   "execution_count": 6,
   "metadata": {},
   "outputs": [
    {
     "name": "stdout",
     "output_type": "stream",
     "text": [
      "   PassengerId  Pclass                                               Name  \\\n",
      "0            1       3                            Braund, Mr. Owen Harris   \n",
      "1            2       1  Cumings, Mrs. John Bradley (Florence Briggs Th...   \n",
      "2            3       3                             Heikkinen, Miss. Laina   \n",
      "3            4       1       Futrelle, Mrs. Jacques Heath (Lily May Peel)   \n",
      "4            5       3                           Allen, Mr. William Henry   \n",
      "\n",
      "      Sex   Age  SibSp  Parch            Ticket     Fare Cabin Embarked  \\\n",
      "0    male  22.0      1      0         A/5 21171   7.2500   NaN        S   \n",
      "1  female  38.0      1      0          PC 17599  71.2833   C85        C   \n",
      "2  female  26.0      0      0  STON/O2. 3101282   7.9250   NaN        S   \n",
      "3  female  35.0      1      0            113803  53.1000  C123        S   \n",
      "4    male  35.0      0      0            373450   8.0500   NaN        S   \n",
      "\n",
      "   Survived  \n",
      "0         0  \n",
      "1         1  \n",
      "2         1  \n",
      "3         1  \n",
      "4         0  \n"
     ]
    }
   ],
   "source": [
    "train_data = pd.read_csv('titanic_train.csv')\n",
    "print(train_data.head())"
   ]
  }
 ],
 "metadata": {
  "kernelspec": {
   "display_name": "base",
   "language": "python",
   "name": "python3"
  },
  "language_info": {
   "codemirror_mode": {
    "name": "ipython",
    "version": 3
   },
   "file_extension": ".py",
   "mimetype": "text/x-python",
   "name": "python",
   "nbconvert_exporter": "python",
   "pygments_lexer": "ipython3",
   "version": "3.9.13"
  },
  "orig_nbformat": 4
 },
 "nbformat": 4,
 "nbformat_minor": 2
}
