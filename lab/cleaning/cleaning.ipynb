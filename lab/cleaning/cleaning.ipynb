{
 "cells": [
  {
   "cell_type": "code",
   "execution_count": 1,
   "metadata": {},
   "outputs": [],
   "source": [
    "import pandas as pd\n",
    "import numpy as np"
   ]
  },
  {
   "cell_type": "code",
   "execution_count": 3,
   "metadata": {},
   "outputs": [
    {
     "data": {
      "text/plain": [
       "(500, 13)"
      ]
     },
     "execution_count": 3,
     "metadata": {},
     "output_type": "execute_result"
    }
   ],
   "source": [
    "data=pd.read_csv(\"Employees_Absenteeism.csv\")\n",
    "data.head()\n",
    "data.shape"
   ]
  },
  {
   "cell_type": "code",
   "execution_count": 4,
   "metadata": {},
   "outputs": [
    {
     "name": "stdout",
     "output_type": "stream",
     "text": [
      "<class 'pandas.core.frame.DataFrame'>\n",
      "RangeIndex: 500 entries, 0 to 499\n",
      "Data columns (total 13 columns):\n",
      " #   Column          Non-Null Count  Dtype  \n",
      "---  ------          --------------  -----  \n",
      " 0   EmployeeNumber  500 non-null    int64  \n",
      " 1   Surname         500 non-null    object \n",
      " 2   GivenName       500 non-null    object \n",
      " 3   Gender          500 non-null    object \n",
      " 4   City            500 non-null    object \n",
      " 5   JobTitle        499 non-null    object \n",
      " 6   DepartmentName  500 non-null    object \n",
      " 7   StoreLocation   500 non-null    object \n",
      " 8   Division        499 non-null    object \n",
      " 9   Age             495 non-null    float64\n",
      " 10  LengthService   500 non-null    float64\n",
      " 11  AbsentHours     496 non-null    float64\n",
      " 12  BusinessUnit    500 non-null    object \n",
      "dtypes: float64(3), int64(1), object(9)\n",
      "memory usage: 50.9+ KB\n"
     ]
    }
   ],
   "source": [
    "data.info()"
   ]
  },
  {
   "cell_type": "code",
   "execution_count": 5,
   "metadata": {},
   "outputs": [
    {
     "data": {
      "text/html": [
       "<div>\n",
       "<style scoped>\n",
       "    .dataframe tbody tr th:only-of-type {\n",
       "        vertical-align: middle;\n",
       "    }\n",
       "\n",
       "    .dataframe tbody tr th {\n",
       "        vertical-align: top;\n",
       "    }\n",
       "\n",
       "    .dataframe thead th {\n",
       "        text-align: right;\n",
       "    }\n",
       "</style>\n",
       "<table border=\"1\" class=\"dataframe\">\n",
       "  <thead>\n",
       "    <tr style=\"text-align: right;\">\n",
       "      <th></th>\n",
       "      <th>EmployeeNumber</th>\n",
       "      <th>Age</th>\n",
       "      <th>LengthService</th>\n",
       "      <th>AbsentHours</th>\n",
       "    </tr>\n",
       "  </thead>\n",
       "  <tbody>\n",
       "    <tr>\n",
       "      <th>count</th>\n",
       "      <td>500.000000</td>\n",
       "      <td>495.000000</td>\n",
       "      <td>500.000000</td>\n",
       "      <td>496.000000</td>\n",
       "    </tr>\n",
       "    <tr>\n",
       "      <th>mean</th>\n",
       "      <td>250.500000</td>\n",
       "      <td>43.477249</td>\n",
       "      <td>47.720799</td>\n",
       "      <td>60.186412</td>\n",
       "    </tr>\n",
       "    <tr>\n",
       "      <th>std</th>\n",
       "      <td>144.481833</td>\n",
       "      <td>9.856304</td>\n",
       "      <td>685.306945</td>\n",
       "      <td>48.613408</td>\n",
       "    </tr>\n",
       "    <tr>\n",
       "      <th>min</th>\n",
       "      <td>1.000000</td>\n",
       "      <td>11.778315</td>\n",
       "      <td>0.385746</td>\n",
       "      <td>0.000000</td>\n",
       "    </tr>\n",
       "    <tr>\n",
       "      <th>25%</th>\n",
       "      <td>125.750000</td>\n",
       "      <td>37.337930</td>\n",
       "      <td>3.731320</td>\n",
       "      <td>20.422634</td>\n",
       "    </tr>\n",
       "    <tr>\n",
       "      <th>50%</th>\n",
       "      <td>250.500000</td>\n",
       "      <td>43.740060</td>\n",
       "      <td>4.939143</td>\n",
       "      <td>55.910068</td>\n",
       "    </tr>\n",
       "    <tr>\n",
       "      <th>75%</th>\n",
       "      <td>375.250000</td>\n",
       "      <td>50.028981</td>\n",
       "      <td>6.268695</td>\n",
       "      <td>94.278764</td>\n",
       "    </tr>\n",
       "    <tr>\n",
       "      <th>max</th>\n",
       "      <td>500.000000</td>\n",
       "      <td>77.000000</td>\n",
       "      <td>13654.848320</td>\n",
       "      <td>223.778841</td>\n",
       "    </tr>\n",
       "  </tbody>\n",
       "</table>\n",
       "</div>"
      ],
      "text/plain": [
       "       EmployeeNumber         Age  LengthService  AbsentHours\n",
       "count      500.000000  495.000000     500.000000   496.000000\n",
       "mean       250.500000   43.477249      47.720799    60.186412\n",
       "std        144.481833    9.856304     685.306945    48.613408\n",
       "min          1.000000   11.778315       0.385746     0.000000\n",
       "25%        125.750000   37.337930       3.731320    20.422634\n",
       "50%        250.500000   43.740060       4.939143    55.910068\n",
       "75%        375.250000   50.028981       6.268695    94.278764\n",
       "max        500.000000   77.000000   13654.848320   223.778841"
      ]
     },
     "execution_count": 5,
     "metadata": {},
     "output_type": "execute_result"
    }
   ],
   "source": [
    "data.describe()\n"
   ]
  },
  {
   "cell_type": "code",
   "execution_count": 10,
   "metadata": {},
   "outputs": [
    {
     "data": {
      "text/plain": [
       "77.0"
      ]
     },
     "execution_count": 10,
     "metadata": {},
     "output_type": "execute_result"
    }
   ],
   "source": [
    "data[\"Age\"].quantile(0.50)\n",
    "data[\"Age\"].max()"
   ]
  },
  {
   "cell_type": "code",
   "execution_count": 23,
   "metadata": {},
   "outputs": [
    {
     "name": "stdout",
     "output_type": "stream",
     "text": [
      "     EmployeeNumber    Surname GivenName Gender             City JobTitle  \\\n",
      "0                 1  Gutierrez     Molly      F          Burnaby    Baker   \n",
      "1                 2   Hardwick   Stephen      M        Courtenay    Baker   \n",
      "2                 3    Delgado   Chester      M         Richmond    Baker   \n",
      "3                 4      Simon     Irene      F         Victoria    Baker   \n",
      "4                 5   Delvalle    Edward      M  New Westminster    Baker   \n",
      "..              ...        ...       ...    ...              ...      ...   \n",
      "494             495      Felix      Carl      M        Vancouver  Trainer   \n",
      "495             496      Green      Anna      F  New Westminster  Cashier   \n",
      "496             497     Nevitt   Phillip      M           D'arcy    Baker   \n",
      "497             498      Troup    Martha      F          Burnaby    Baker   \n",
      "498             499       Ross      Eric      M           Surrey    Baker   \n",
      "\n",
      "       DepartmentName    StoreLocation        Division        Age  \\\n",
      "0              Bakery          Burnaby          Stores  32.028816   \n",
      "1              Bakery          Nanaimo          Stores  40.320902   \n",
      "2              Bakery         Richmond          Stores  48.822047   \n",
      "3              Bakery         Victoria          Stores  44.599357   \n",
      "4              Bakery  New Westminster          Stores  35.697876   \n",
      "..                ...              ...             ...        ...   \n",
      "494          Training        Vancouver  HumanResources  49.898107   \n",
      "495  Customer Service  New Westminster          Stores  41.020162   \n",
      "496            Bakery         Squamish          Stores  53.650450   \n",
      "497            Bakery          Burnaby          Stores  39.860055   \n",
      "498            Bakery           Surrey          Stores  35.489233   \n",
      "\n",
      "     LengthService  AbsentHours BusinessUnit  \n",
      "0         6.018478    36.577306       Stores  \n",
      "1         5.532445    30.165072       Stores  \n",
      "2         4.389973    83.807798       Stores  \n",
      "3         3.081736    70.020165       Stores  \n",
      "4         3.619091     0.000000       Stores  \n",
      "..             ...          ...          ...  \n",
      "494      31.898107          NaN   HeadOffice  \n",
      "495       3.001312    67.650922       Stores  \n",
      "496       5.732535   129.752356       Stores  \n",
      "497       4.322794    76.999388       Stores  \n",
      "498       5.155878    48.838621       Stores  \n",
      "\n",
      "[485 rows x 13 columns]\n"
     ]
    }
   ],
   "source": [
    "data_filtered=data[(data[\"Age\"]>data[\"Age\"].quantile(0.01)) & (data[\"Age\"]<data[\"Age\"].quantile(0.99))]\n",
    "print(data_filtered)"
   ]
  },
  {
   "cell_type": "code",
   "execution_count": 24,
   "metadata": {},
   "outputs": [
    {
     "data": {
      "text/plain": [
       "43.47724887280808"
      ]
     },
     "execution_count": 24,
     "metadata": {},
     "output_type": "execute_result"
    }
   ],
   "source": [
    "data[\"Age\"].fillna(data[\"Age\"]).mean()"
   ]
  }
 ],
 "metadata": {
  "kernelspec": {
   "display_name": "Python 3",
   "language": "python",
   "name": "python3"
  },
  "language_info": {
   "codemirror_mode": {
    "name": "ipython",
    "version": 3
   },
   "file_extension": ".py",
   "mimetype": "text/x-python",
   "name": "python",
   "nbconvert_exporter": "python",
   "pygments_lexer": "ipython3",
   "version": "3.11.4"
  },
  "orig_nbformat": 4
 },
 "nbformat": 4,
 "nbformat_minor": 2
}
